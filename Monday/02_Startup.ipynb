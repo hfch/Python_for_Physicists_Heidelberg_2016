{
 "cells": [
  {
   "cell_type": "markdown",
   "metadata": {},
   "source": [
    "# The Jupyter Notebook\n",
    "(The notebook closely follows in parts one from [Thomas Robitaille](http://www.thomasrobitaille.com/))\n",
    "The Jupyter Notebook runs IPython (and other languages) in a webbrowser notebook. It is ideal for all kinds of reports and to annotate interactive  Python code with text, plots and many web ressources (Videos etc.). I wrote all the notes for this course in Jupyter."
   ]
  },
  {
   "cell_type": "markdown",
   "metadata": {},
   "source": [
    "## Download lecture material"
   ]
  },
  {
   "cell_type": "markdown",
   "metadata": {},
   "source": [
    "The lecture material is hosted on [github](https://github.com/terben/Python_for_Physicists_Heidelberg_2016) and I will update it daily.\n",
    "You can directly download the files as a zip-archive:\n",
    "https://github.com/terben/Python_for_Physicists_Heidelberg_2016/archive/master.zip\n",
    "\n",
    "After unzipping the file, navigate to the *Monday* subdiretory within the archive."
   ]
  },
  {
   "cell_type": "markdown",
   "metadata": {},
   "source": [
    "## Starting Jupyter"
   ]
  },
  {
   "cell_type": "markdown",
   "metadata": {},
   "source": [
    "### Cip-Pool\n",
    "In the CIP-Pool you need to add the line"
   ]
  },
  {
   "cell_type": "raw",
   "metadata": {},
   "source": [
    "source /data/anaconda3/anaconda.sh"
   ]
  },
  {
   "cell_type": "markdown",
   "metadata": {},
   "source": [
    "to the file `.bashrc` in your home directory. After that you can start `Jupyter` with"
   ]
  },
  {
   "cell_type": "raw",
   "metadata": {},
   "source": [
    "start-jupyter-notebook"
   ]
  },
  {
   "cell_type": "markdown",
   "metadata": {},
   "source": [
    "**Please start the notebook only in this way on the CIP-Pool computers!**. Otherwise, you may accidentally access other peoples notebooks!"
   ]
  },
  {
   "cell_type": "markdown",
   "metadata": {},
   "source": [
    "## Laptops/Notebooks"
   ]
  },
  {
   "cell_type": "markdown",
   "metadata": {},
   "source": [
    "If you properly installed your python-enviroenment, you should start a new notebook with"
   ]
  },
  {
   "cell_type": "raw",
   "metadata": {},
   "source": [
    "jupyter notebook"
   ]
  },
  {
   "cell_type": "markdown",
   "metadata": {},
   "source": [
    "## First steps in Jupyter"
   ]
  },
  {
   "cell_type": "markdown",
   "metadata": {},
   "source": [
    "Click on New Notebook on the right, which will start a new document (If the New-Button offers you different *Kernels*, tehn choose the one associated with Python3.). You can change the name of the document by clicking on the Untitled name at the top and entering a new name. Make sure you then save the document (make sure that you save regularly as you might lose content if you close the browser window!)."
   ]
  },
  {
   "cell_type": "markdown",
   "metadata": {},
   "source": [
    "### Code cell"
   ]
  },
  {
   "cell_type": "markdown",
   "metadata": {},
   "source": [
    "At first glance, a notebook looks like a fairly typical application - it has a menubar (File, Edit, View, etc.) and a tool bar with icons. Below this, you will see an empty (code) cell, in which you can type any Python code. You can write several lines of code, and once it is ready to run, you can press shift-enter and it will get executed:"
   ]
  },
  {
   "cell_type": "code",
   "execution_count": 2,
   "metadata": {
    "collapsed": false
   },
   "outputs": [
    {
     "name": "stdout",
     "output_type": "stream",
     "text": [
      "Hello Python\n"
     ]
    }
   ],
   "source": [
    "text = \"Hello Python\"\n",
    "print(text)"
   ]
  },
  {
   "cell_type": "markdown",
   "metadata": {},
   "source": [
    "**Congratulations!** You just ran your first Python-code! If you like, you can go back to the cell, change the code and rerun it with shift-enter. Once you executed a cell with shift-enter once, a new cell will appear below. You can again enter some code etc."
   ]
  },
  {
   "cell_type": "markdown",
   "metadata": {},
   "source": [
    "### Text cell"
   ]
  },
  {
   "cell_type": "markdown",
   "metadata": {},
   "source": [
    "If you want to type text in a cell (instead of code), click on the cell and within the `Cell` Menu select `Cell Type -> Markdown`. `Markdown` is a specific syntax to obtain formatted text. You can just type text normally and press shift-enter to *render* it. Text formatting is done with specific characters. Here a few examples:"
   ]
  },
  {
   "cell_type": "raw",
   "metadata": {},
   "source": [
    "# This is our first title\n",
    "Here is some text in *italic* and\n",
    "here some in **boldface**. You can also link Web pages as [here](http://google.de).\n",
    "\n",
    "## Here is a subtitle\n",
    "You can also type mathematical TeX-expressions such as $\\pi\\approx 3.14159$ within a Markdown cell."
   ]
  },
  {
   "cell_type": "markdown",
   "metadata": {},
   "source": [
    "If you type the text above in a Markdown cell and render it, you get:"
   ]
  },
  {
   "cell_type": "markdown",
   "metadata": {},
   "source": [
    "# This is our first title\n",
    "Here is some text in *italic* and here some in **boldface**. You can also link Web pages as [here](http://google.de).\n",
    "\n",
    "## Here is a subtitle\n",
    "You can also type mathematical TeX-expressions such as $\\pi\\approx 3.14159$ within a Markdown cell."
   ]
  },
  {
   "cell_type": "markdown",
   "metadata": {},
   "source": [
    "This should get you started. Have a look lateron for further possibilities of [markdown](https://github.com/adam-p/markdown-here/wiki/Markdown-Cheatsheet) or how you can manipulate cells much quicker with keystrokes instead of using the Menu bar. [Here](https://www.cheatography.com/weidadeyue/cheat-sheets/jupyter-notebook/) is a short summary."
   ]
  },
  {
   "cell_type": "code",
   "execution_count": null,
   "metadata": {
    "collapsed": true
   },
   "outputs": [],
   "source": []
  }
 ],
 "metadata": {
  "kernelspec": {
   "display_name": "Python [my-py3-env]",
   "language": "python",
   "name": "Python [my-py3-env]"
  },
  "language_info": {
   "codemirror_mode": {
    "name": "ipython",
    "version": 3
   },
   "file_extension": ".py",
   "mimetype": "text/x-python",
   "name": "python",
   "nbconvert_exporter": "python",
   "pygments_lexer": "ipython3",
   "version": "3.5.2"
  }
 },
 "nbformat": 4,
 "nbformat_minor": 0
}
