{
 "cells": [
  {
   "cell_type": "markdown",
   "metadata": {},
   "source": [
    "Exercises - First Python programs\n",
    "================================="
   ]
  },
  {
   "cell_type": "markdown",
   "metadata": {},
   "source": [
    "## Approximation of $\\pi$ with the Wallis product"
   ]
  },
  {
   "cell_type": "markdown",
   "metadata": {},
   "source": [
    "$\\pi$ cn be approximated with the infinite product\n",
    "$$\\pi = 2\\prod_{i=1}^{\\infty}\\frac{4i^2}{4i^2-1}$$\n",
    "Write a Python program which approximates $\\pi$ by the finite products\n",
    "$$\\pi = 2\\prod_{i=1}^{n}\\frac{4i^2}{4i^2-1}$$\n",
    "with $n\\in \\{50, 100, 1000, 10000, 20000\\}$ and compare the results with the value $\\pi\\approx 3.1415926$.\n"
   ]
  },
  {
   "cell_type": "code",
   "execution_count": null,
   "metadata": {
    "collapsed": true
   },
   "outputs": [],
   "source": [
    "# Your solution here"
   ]
  },
  {
   "cell_type": "markdown",
   "metadata": {},
   "source": [
    "## Chicken McNuggets\n",
    "Mc Donalds sells its Chicken McNuggets in packages of 6, 9 and 20 pieces. Write a ```python``` program which tests for a given number $N$, whether $N$ nuggets can be bought. Your program should print *all* possible package combinations in which the $N$ nuggets can be obtained (e.g. 60 nuggets can be bought with 3 packages of 20 pieces, 10 packages of 6 pieces and three more combinations). Print a corresponding message if the $N$ nuggets cannot be bought! "
   ]
  },
  {
   "cell_type": "code",
   "execution_count": null,
   "metadata": {
    "collapsed": true
   },
   "outputs": [],
   "source": [
    "# your solution here"
   ]
  },
  {
   "cell_type": "markdown",
   "metadata": {},
   "source": [
    "## Fibonacci Numbers\n",
    "The infinite series of Fibonacci numbers $F_n$ is defined as $F_1=1$, $F_2=1$ and $F_n = F_{n-1} + F_{n-2}$. Write a ```python``` program which calculates the sum of the first 1000 Fibonacci numbers!"
   ]
  },
  {
   "cell_type": "code",
   "execution_count": null,
   "metadata": {
    "collapsed": true
   },
   "outputs": [],
   "source": [
    "# your solution here"
   ]
  }
 ],
 "metadata": {
  "kernelspec": {
   "display_name": "Python 3",
   "language": "python",
   "name": "python3"
  },
  "language_info": {
   "codemirror_mode": {
    "name": "ipython",
    "version": 3
   },
   "file_extension": ".py",
   "mimetype": "text/x-python",
   "name": "python",
   "nbconvert_exporter": "python",
   "pygments_lexer": "ipython3",
   "version": "3.5.2"
  }
 },
 "nbformat": 4,
 "nbformat_minor": 0
}
