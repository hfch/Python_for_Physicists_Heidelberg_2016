{
 "cells": [
  {
   "cell_type": "markdown",
   "metadata": {},
   "source": [
    "# Exercises - Containers"
   ]
  },
  {
   "cell_type": "markdown",
   "metadata": {},
   "source": [
    "## Palindrome strings\n",
    "A palindrome is a word which reads the same from the front and from the back, e.g. `rentner`, `maoam`, `reittier`, `bob`.\n",
    "\n",
    "A recursion relation to test a string for the palindrome property is:\n",
    "- An empty string or a string with one character is a palindrome.\n",
    "- A string with more than 1 character is a palindrome if the first and last letters are the same and if the remainder string is a palindrome.\n",
    "\n",
    "Implement a function `palindrome_recursive`. If you are not comfortable with recursions, implement an iterative version."
   ]
  },
  {
   "cell_type": "code",
   "execution_count": null,
   "metadata": {
    "collapsed": true
   },
   "outputs": [],
   "source": [
    "# your solution here"
   ]
  },
  {
   "cell_type": "markdown",
   "metadata": {},
   "source": [
    "## ProjectEuler - Problem 10\n",
    "Solve [problem 10](https://projecteuler.net/problem=10) of ProjectEuler\n",
    "**BUT** only consider all prime numbers up to 100000 (instead of 2 million as in the original problem)!\n",
    "\n",
    "Here is a possible work plan:\n",
    "- Convert your program to test for the prime property of an integer into a function `is_prime`. The function should accept one argument (an integer number) and return `True` if the argument is a prime and `False` otherweise. You can also take [my solution](../code/) as a staring point if you wanto to.\n",
    "\n",
    "- Create an iteration for the integers from from 2 to 1 million and test all the numbers for the prime property with your function `is_prime`.\n",
    "\n",
    "- Put all numbers which you identify as prime into a list (gradually build up and expand the list as you identify new numbers). Obtain the result by calling the `sum`-function on your list.\n",
    "\n",
    "**Note**:\n",
    "The original ProjectEuler version should be done with a *faster* method to identify prime numbers than we do it here. Those who seek a challenge can solve the original problem and stay with program execution time below 10 seconds."
   ]
  },
  {
   "cell_type": "markdown",
   "metadata": {},
   "source": [
    "## ProjectEuler - Problem 8\n",
    "Solve [problem 8](https://projecteuler.net/problem=8) of ProjectEuler."
   ]
  },
  {
   "cell_type": "code",
   "execution_count": null,
   "metadata": {
    "collapsed": false
   },
   "outputs": [],
   "source": [
    "# your solution here\n",
    "# The variable 'number' below contains the 1000-digit\n",
    "# number as a string\n",
    "\n",
    "number_raw = \"\"\"\n",
    "73167176531330624919225119674426574742355349194934\n",
    "96983520312774506326239578318016984801869478851843\n",
    "85861560789112949495459501737958331952853208805511\n",
    "12540698747158523863050715693290963295227443043557\n",
    "66896648950445244523161731856403098711121722383113\n",
    "62229893423380308135336276614282806444486645238749\n",
    "30358907296290491560440772390713810515859307960866\n",
    "70172427121883998797908792274921901699720888093776\n",
    "65727333001053367881220235421809751254540594752243\n",
    "52584907711670556013604839586446706324415722155397\n",
    "53697817977846174064955149290862569321978468622482\n",
    "83972241375657056057490261407972968652414535100474\n",
    "82166370484403199890008895243450658541227588666881\n",
    "16427171479924442928230863465674813919123162824586\n",
    "17866458359124566529476545682848912883142607690042\n",
    "24219022671055626321111109370544217506941658960408\n",
    "07198403850962455444362981230987879927244284909188\n",
    "84580156166097919133875499200524063689912560717606\n",
    "05886116467109405077541002256983155200055935729725\n",
    "71636269561882670428252483600823257530420752963450\n",
    "\"\"\"\n",
    "\n",
    "number = number_raw.replace(\"\\n\", \"\")"
   ]
  },
  {
   "cell_type": "markdown",
   "metadata": {},
   "source": [
    "## Word count\n",
    "The goal of this exercise is to mimic the Unix command `wc` (word count). It counts in a text file the number of lines, the number of words and the number of individual characters. You can use the file [data/abstract.txt](data/abstract.txt) to run your program. Do the necessary countings while you read the file line-by-line:\n",
    "- The line numbers you just get when reading the file line-by-line.\n",
    "- After you split each line into a list, the number of words in that line is the length of the list.\n",
    "- The number of characters in a certain line you get by adding up all the characters from all the elements in the list."
   ]
  },
  {
   "cell_type": "code",
   "execution_count": null,
   "metadata": {
    "collapsed": true
   },
   "outputs": [],
   "source": [
    "# your solution here"
   ]
  },
  {
   "cell_type": "markdown",
   "metadata": {
    "collapsed": true
   },
   "source": [
    "## Birthday Propabilities\n",
    "We have 54 students in class. What is the propability that two of you have the same birthday? We can estimate this propability by generating random samples of 54 birthdays (lists of 54 random integer numbers between 1 and 365) and checking for matches (the same number appearing more than once in the lists).\n",
    "\n",
    "**Hints:**\n",
    "- The function `random.randint` within the `random`-module. generates one random integer number in a given range. You can use a list comprehension to generate the required list of 54 numbers.\n",
    "- Generate at least 1000 samples to estimate the propability.\n",
    "- Your first step should be a function `has_duplicates` which checks a list for duplicate entries (Hint: Reordering the elements of a list might facilitate this task significantly!)."
   ]
  },
  {
   "cell_type": "code",
   "execution_count": null,
   "metadata": {
    "collapsed": true
   },
   "outputs": [],
   "source": [
    "# your solution here"
   ]
  }
 ],
 "metadata": {
  "kernelspec": {
   "display_name": "Python 3",
   "language": "python",
   "name": "python3"
  },
  "language_info": {
   "codemirror_mode": {
    "name": "ipython",
    "version": 3
   },
   "file_extension": ".py",
   "mimetype": "text/x-python",
   "name": "python",
   "nbconvert_exporter": "python",
   "pygments_lexer": "ipython3",
   "version": "3.5.1"
  }
 },
 "nbformat": 4,
 "nbformat_minor": 0
}
