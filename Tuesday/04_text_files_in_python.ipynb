{
 "cells": [
  {
   "cell_type": "markdown",
   "metadata": {},
   "source": [
    "# Text File Reading in Python\n",
    "We will mostly deal with tabulated numerical data which will be treated separately in the section on mumpy-arrays. We treat here reading of an *arbitrary* text file with Python-core capabilities. It is again a nice application on container handling."
   ]
  },
  {
   "cell_type": "markdown",
   "metadata": {
    "collapsed": true
   },
   "source": [
    "The basic principle to read in text files is similar to C or Fortran. We open the file and work through it line by line."
   ]
  },
  {
   "cell_type": "code",
   "execution_count": null,
   "metadata": {
    "collapsed": false
   },
   "outputs": [],
   "source": [
    "f = open(\"../data/read_data.txt\")  # f is a file handle\n",
    "\n",
    "# The file handle can be used like a 'container' to read\n",
    "# each line with a for-loop:\n",
    "for line in f:\n",
    "    print(repr(line))  # line is a string and 'repr' prints it with all\n",
    "                       # invisible characters\n",
    "\n",
    "f.close()              # always close files when you are done with reading\n",
    "\n",
    "print(line.strip().split()) # the construct str.strip().split() removes a newline character at the\n",
    "                            # end and puts columns into a list of strings.\n",
    "    "
   ]
  },
  {
   "cell_type": "markdown",
   "metadata": {},
   "source": [
    "We usually want to build up lists with values from different columns:"
   ]
  },
  {
   "cell_type": "code",
   "execution_count": null,
   "metadata": {
    "collapsed": false
   },
   "outputs": [],
   "source": [
    "f = open(\"../data/read_data.txt\")  # f is a file handle\n",
    "\n",
    "# we put the two columns into lists x and y:\n",
    "x = []\n",
    "y = []\n",
    "for line in f:\n",
    "    line_list = line.strip().split()\n",
    "    x.append(float(line_list[0])) # note that we need an explicit conversion to float (from string)\n",
    "    y.append(float(line_list[1]))\n",
    "    \n",
    "print(x, y)"
   ]
  }
 ],
 "metadata": {
  "kernelspec": {
   "display_name": "Python 3",
   "language": "python",
   "name": "python3"
  },
  "language_info": {
   "codemirror_mode": {
    "name": "ipython",
    "version": 3
   },
   "file_extension": ".py",
   "mimetype": "text/x-python",
   "name": "python",
   "nbconvert_exporter": "python",
   "pygments_lexer": "ipython3",
   "version": "3.5.1"
  }
 },
 "nbformat": 4,
 "nbformat_minor": 0
}
